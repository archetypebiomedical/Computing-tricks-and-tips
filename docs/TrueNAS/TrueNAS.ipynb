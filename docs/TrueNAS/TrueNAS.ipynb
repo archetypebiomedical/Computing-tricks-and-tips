{
 "cells": [
  {
   "cell_type": "markdown",
   "id": "075dedf7",
   "metadata": {},
   "source": [
    "(Label_TrueNAS)=\n",
    "# TrueNAS"
   ]
  }
 ],
 "metadata": {
  "language_info": {
   "name": "python"
  }
 },
 "nbformat": 4,
 "nbformat_minor": 5
}
