{
 "cells": [
  {
   "cell_type": "markdown",
   "id": "075dedf7",
   "metadata": {},
   "source": [
    "(Label_Proxmox)=\n",
    "# Proxmox\n",
    "\n",
    "[Proxmox Virtual Environment (PVE)](https://www.proxmox.com/en/) is an open-source server virtualization management platform. It allows you to host and manage [Virtual Machines (VM)](https://en.wikipedia.org/wiki/Virtual_machine) and [Linux Containers (LXC)](https://en.wikipedia.org/wiki/LXC), along with software-defined storage and networking, all within a single web-based interface."
   ]
  }
 ],
 "metadata": {
  "language_info": {
   "name": "python"
  }
 },
 "nbformat": 4,
 "nbformat_minor": 5
}
