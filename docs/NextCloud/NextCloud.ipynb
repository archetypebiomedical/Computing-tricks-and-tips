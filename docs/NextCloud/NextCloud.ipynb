{
 "cells": [
  {
   "cell_type": "markdown",
   "id": "446ebbee",
   "metadata": {},
   "source": [
    "# How to install NextCloud as VM in Proxmox with data on NFS\n",
    "\n",
    "This document details how to install [NextCloud](https://nextcloud.com/) as a virtual machine inside a [Proxmox](https://www.proxmox.com/en/) installation, where the data shared via NextCloud resides on a [NFS](https://en.wikipedia.org/wiki/Network_File_System) share from a TrueNAS.\n",
    "\n",
    "\n",
    "# Background and Rationale\n",
    "\n",
    "Self-hosting home servers has many advantages, such as having your own cloud-based storage with very high storage quota. One way to achieve this is to host several cloud-based applications using [Proxmox](https://www.proxmox.com/en/), thereby having everything running on single computer hardware.\n",
    "\n",
    "## Proxmox\n",
    "\n",
    "Proxmox Virtual Environment (Proxmox VE) is an open-source server management platform for virtualization, allowing a user to host virtual machines and Linux Containers (LXC) with a web-based interface."
   ]
  },
  {
   "cell_type": "markdown",
   "id": "2d7bbaa9",
   "metadata": {},
   "source": [
    "## Upgrade NextCloud manually\n",
    "\n",
    "```\n",
    "bash -c \"$(curl -fsSL https://raw.githubusercontent.com/community-scripts/ProxmoxVE/main/vm/nextcloud-vm.sh)\"\n",
    "```"
   ]
  },
  {
   "cell_type": "markdown",
   "id": "69b2ae6e",
   "metadata": {},
   "source": [
    "# How to move NextCloud data to another director\n",
    "\n",
    "1. Using Proxmox, open a console for the NextCloud VM\n",
    "1. Issue the following command to start the maintainance mode. Note in my NextCloud install, NC was installed to\n",
    "   ```\n",
    "   /var/www/nextcloud/\n",
    "   ```\n",
    "   ```\n",
    "   sudo -u www-data php /var/www/nextcloud/occ maintenance:mode --on\n",
    "   ```\n",
    "   ```{image} ./../images/NextCloud_Maintenance.png\n",
    "   :alt: fishy\n",
    "   :class: bg-primary mb-1\n",
    "   :width: 500px\n",
    "   :align: center\n",
    "   ```\n",
    "   At this stage, if you try to load the webpage for NextCloud, you should see the message above.\n",
    "1. Stop the webserver Apache2\n",
    "   ```\n",
    "   systemctl stop apache2\n",
    "   ```\n",
    "   At this stage, the webpage for NextCloud still stop functioning.\n",
    "1. Using Proxmox, open a console for the TrueNas VM. \n",
    "1. Inside the TrueNAS VM console, copy the file from the NextCloud data directory to another localtion of your choice\n",
    "   ```\n",
    "   sudo cp -a /mnt/NAS_oldie/nextcloud_data temp\n",
    "   ```\n",
    "   Notice the *archieve* mode for cp.\n",
    "1. NextCloud has the default user of **www-data**, thus one needs to make sure the ownership is maintainedl\n",
    "   ```\n",
    "   sudo chown -R www-data:www-data temp/nextcloud_data\n",
    "   ```\n",
    "1. edit the configuration \n",
    "\n",
    "\n",
    "   ```\n",
    "   systemctl restart apache2 php*\n",
    "   ```\n",
    "\n",
    "   \n",
    "   ```\n",
    "   sudo -u www-data php /var/www/nextcloud/occ maintenance:mode --off\n",
    "   ```\n",
    "\n",
    "\n"
   ]
  },
  {
   "cell_type": "markdown",
   "id": "cbd5d187",
   "metadata": {},
   "source": [
    "## Reference Video\n",
    "<iframe width=\"560\" height=\"315\" src=\"https://www.youtube.com/embed/Rk3kYCyY5ro?si=eLRSxBZHCFJGixFp\" title=\"YouTube video player\" frameborder=\"0\" allow=\"accelerometer; autoplay; clipboard-write; encrypted-media; gyroscope; picture-in-picture; web-share\" referrerpolicy=\"strict-origin-when-cross-origin\" allowfullscreen></iframe>"
   ]
  }
 ],
 "metadata": {
  "kernelspec": {
   "display_name": "JupyterBook",
   "language": "python",
   "name": "python3"
  },
  "language_info": {
   "name": "python",
   "version": "3.12.9"
  }
 },
 "nbformat": 4,
 "nbformat_minor": 5
}
