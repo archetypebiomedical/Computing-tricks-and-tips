{
 "cells": [
  {
   "cell_type": "markdown",
   "id": "446ebbee",
   "metadata": {},
   "source": [
    "# How to install NextCloud as VM in Proxmox with data on NFS\n",
    "\n",
    "This document details how to install [NextCloud](https://nextcloud.com/) as a virtual machine inside a [Proxmox](https://www.proxmox.com/en/) installation, where the data shared via NextCloud resides on a [NFS](https://en.wikipedia.org/wiki/Network_File_System) share from a TrueNAS.\n",
    "\n",
    "\n",
    "# Background and Rationale\n",
    "\n",
    "Self-hosting home servers has many advantages, such as having your own cloud-based storage with very high storage quota. One way to achieve this is to host several cloud-based applications using [Proxmox](https://www.proxmox.com/en/), thereby having everything running on single computer hardware.\n",
    "\n",
    "## Proxmox\n",
    "\n",
    "Proxmox Virtual Environment (Proxmox VE) is an open-source server management platform for virtualization, allowing a user to host virtual machines and Linux Containers (LXC) with a web-based interface."
   ]
  },
  {
   "cell_type": "markdown",
   "id": "cbd5d187",
   "metadata": {},
   "source": [
    "## Reference Video\n",
    "<iframe width=\"560\" height=\"315\" src=\"https://www.youtube.com/embed/Rk3kYCyY5ro?si=eLRSxBZHCFJGixFp\" title=\"YouTube video player\" frameborder=\"0\" allow=\"accelerometer; autoplay; clipboard-write; encrypted-media; gyroscope; picture-in-picture; web-share\" referrerpolicy=\"strict-origin-when-cross-origin\" allowfullscreen></iframe>"
   ]
  }
 ],
 "metadata": {
  "language_info": {
   "name": "python"
  }
 },
 "nbformat": 4,
 "nbformat_minor": 5
}
